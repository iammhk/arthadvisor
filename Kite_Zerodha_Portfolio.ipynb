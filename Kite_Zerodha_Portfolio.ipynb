{
 "cells": [
  {
   "cell_type": "markdown",
   "id": "7243570e",
   "metadata": {},
   "source": [
    "# Fetch Zerodha Portfolio with Kite Connect\n",
    "\n",
    "This notebook allows you to input your Kite API credentials, authenticate with Zerodha, and fetch your live portfolio holdings and positions."
   ]
  },
  {
   "cell_type": "code",
   "execution_count": 1,
   "id": "895f5760",
   "metadata": {},
   "outputs": [],
   "source": [
    "# Import Required Libraries\n",
    "from kiteconnect import KiteConnect\n",
    "import pandas as pd\n",
    "import getpass"
   ]
  },
  {
   "cell_type": "code",
   "execution_count": null,
   "id": "53c4141c",
   "metadata": {},
   "outputs": [
    {
     "name": "stdout",
     "output_type": "stream",
     "text": [
      "Go to the following URL to login and get your request token:\n",
      "https://kite.zerodha.com/connect/login?api_key=v2qa0jwrkw1l7489&v=3\n"
     ]
    },
    {
     "ename": "",
     "evalue": "",
     "output_type": "error",
     "traceback": [
      "\u001b[1;31mThe Kernel crashed while executing code in the current cell or a previous cell. \n",
      "\u001b[1;31mPlease review the code in the cell(s) to identify a possible cause of the failure. \n",
      "\u001b[1;31mClick <a href='https://aka.ms/vscodeJupyterKernelCrash'>here</a> for more info. \n",
      "\u001b[1;31mView Jupyter <a href='command:jupyter.viewOutput'>log</a> for further details."
     ]
    }
   ],
   "source": [
    "# Input Kite API credentials and request token\n",
    "api_key = \"v2qa0jwrkw1l7489\" \n",
    "api_secret = '17b9qraamiojz39sj7xa0hkaoqctf7fu'\n",
    "print('Go to the following URL to login and get your request token:')\n",
    "print(f'https://kite.zerodha.com/connect/login?api_key={api_key}&v=3')\n",
    "request_token = input('Paste the request token from the redirected URL here: ')"
   ]
  },
  {
   "cell_type": "code",
   "execution_count": null,
   "id": "36dc8d3a",
   "metadata": {},
   "outputs": [],
   "source": [
    "# Authenticate with Kite Connect API\n",
    "kite = KiteConnect(api_key=api_key)\n",
    "try:\n",
    "    session_data = kite.generate_session(request_token, api_secret=api_secret)\n",
    "    kite.set_access_token(session_data[\"access_token\"])\n",
    "    print('Authentication successful!')\n",
    "except Exception as e:\n",
    "    print(f'Authentication failed: {e}')"
   ]
  },
  {
   "cell_type": "code",
   "execution_count": null,
   "id": "32eced41",
   "metadata": {},
   "outputs": [],
   "source": [
    "# Fetch Zerodha Portfolio Information\n",
    "try:\n",
    "    holdings = kite.holdings()\n",
    "    positions = kite.positions()\n",
    "    print('Portfolio data fetched successfully!')\n",
    "except Exception as e:\n",
    "    print(f'Failed to fetch portfolio data: {e}')"
   ]
  },
  {
   "cell_type": "code",
   "execution_count": null,
   "id": "0554c5e1",
   "metadata": {},
   "outputs": [],
   "source": [
    "# Display Portfolio Data\n",
    "if 'holdings' in locals():\n",
    "    df_holdings = pd.DataFrame(holdings)\n",
    "    if not df_holdings.empty:\n",
    "        display(df_holdings)\n",
    "    else:\n",
    "        print('No holdings found.')\n",
    "if 'positions' in locals():\n",
    "    df_positions = pd.DataFrame(positions['net'])\n",
    "    if not df_positions.empty:\n",
    "        display(df_positions)\n",
    "    else:\n",
    "        print('No positions found.')"
   ]
  }
 ],
 "metadata": {
  "kernelspec": {
   "display_name": "venv",
   "language": "python",
   "name": "python3"
  },
  "language_info": {
   "codemirror_mode": {
    "name": "ipython",
    "version": 3
   },
   "file_extension": ".py",
   "mimetype": "text/x-python",
   "name": "python",
   "nbconvert_exporter": "python",
   "pygments_lexer": "ipython3",
   "version": "3.13.5"
  }
 },
 "nbformat": 4,
 "nbformat_minor": 5
}
